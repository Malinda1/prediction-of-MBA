{
 "cells": [
  {
   "cell_type": "code",
   "execution_count": 10,
   "id": "7b5feccd-4c45-426f-8452-de46b2876d97",
   "metadata": {},
   "outputs": [],
   "source": [
    "import pandas as pd\n",
    "import numpy as np\n",
    "import tensorflow as tf\n",
    "import optuna\n",
    "import matplotlib.pyplot as plt\n",
    "import seaborn as sns\n",
    "from tensorflow.keras.models import Sequential\n",
    "from tensorflow.keras.layers import Dense, Dropout\n",
    "from tensorflow.keras.optimizers import Adam, SGD, RMSprop\n",
    "from tensorflow.keras.callbacks import EarlyStopping, ReduceLROnPlateau\n",
    "from sklearn.model_selection import train_test_split\n",
    "from sklearn.preprocessing import StandardScaler\n",
    "from sklearn.metrics import accuracy_score, precision_score, recall_score, f1_score, roc_auc_score\n",
    "from sklearn.utils.class_weight import compute_class_weight"
   ]
  },
  {
   "cell_type": "code",
   "execution_count": 12,
   "id": "bca55cc6-3ce8-4c3b-a0a3-4d7cd02583c8",
   "metadata": {},
   "outputs": [],
   "source": [
    "# set random seeds for reproducibility\n",
    "np.random.seed(42)\n",
    "tf.random.set_seed(42)"
   ]
  },
  {
   "cell_type": "code",
   "execution_count": 16,
   "id": "1ebb61a2-820d-42e7-b51f-db75fc7e6b8f",
   "metadata": {},
   "outputs": [],
   "source": [
    "# Function to load and prepare your data\n",
    "\n",
    "def load_data():\n",
    "\n",
    "  data = pd.read_csv(f'feature_engineered_dataset.csv')\n",
    "\n",
    "  X = data.drop(columns = ['remainder__Decided to Pursue MBA?'])\n",
    "  y = data['remainder__Decided to Pursue MBA?']\n",
    "\n",
    "  print(\"Please replace the load_data function with your actual data loading code\")\n",
    "  return None, None"
   ]
  },
  {
   "cell_type": "code",
   "execution_count": 20,
   "id": "6cb16598-9bd1-4b3a-bd9c-a9fd9f604e02",
   "metadata": {},
   "outputs": [],
   "source": [
    "# Function to create a model with given hyperparameters\n",
    "\n",
    "def create_model(params):\n",
    "\n",
    "    model = Sequential()\n",
    "\n",
    "    # Input layer\n",
    "    model.add(Dense(\n",
    "        units = params['units_1'],\n",
    "        activation = params['activation'],\n",
    "        kernel_regularizer = tf.keras.regularizers.l1_l2(l1 = params['l1'], l2 = params['l2']),\n",
    "        input_dim = X_train.shape[1]\n",
    "    ))\n",
    "\n",
    "    # Add dropout after first layer\n",
    "    model.add(Dropout(params['dropout_1']))\n",
    "\n",
    "    # Hidden layer\n",
    "    for i in range(params['n_layers']):\n",
    "        model.add(Dense(\n",
    "            units = params[f'units_{i+2}'],\n",
    "            activation = params['activation'],\n",
    "            kernel_regularizer = tf.keras.regularizers.l1_l2(l1 = params['l1'], l2 = params['l2'])\n",
    "        ))\n",
    "        model.add(Dropout(params[f'dropout_{i+1}']))\n",
    "    # Output layer (binary classification)\n",
    "    model.add(Dense(1, activation = 'sigmoid'))\n",
    "\n",
    "    #compile the model\n",
    "    optimizer_name = params['optimizer']\n",
    "    learning_rate = params['learning_rate']\n",
    "\n",
    "    if optimizer_name == 'adam':\n",
    "        optimizer = Adam(learning_rate = learning_rate)\n",
    "    elif optimizer_name == 'sgd':\n",
    "        optimizer = SGD(learning_rate = learning_rate, momentum = params['momentum'])\n",
    "    else:\n",
    "        optimizer = RMSprop(learning_rate = learning_rate)\n",
    "\n",
    "    model.compile(\n",
    "        optimizer = optimizer,\n",
    "        loss = 'binary_crossentropy',\n",
    "        metrics = ['accuracy', tf.keras.metrics.AUC(name = 'auc')]\n",
    "    )\n",
    "    return model\n",
    "        "
   ]
  },
  {
   "cell_type": "code",
   "execution_count": null,
   "id": "636dc526-e87e-418a-b302-eae3d0a70ca4",
   "metadata": {},
   "outputs": [],
   "source": []
  }
 ],
 "metadata": {
  "kernelspec": {
   "display_name": "Python 3 (ipykernel)",
   "language": "python",
   "name": "python3"
  },
  "language_info": {
   "codemirror_mode": {
    "name": "ipython",
    "version": 3
   },
   "file_extension": ".py",
   "mimetype": "text/x-python",
   "name": "python",
   "nbconvert_exporter": "python",
   "pygments_lexer": "ipython3",
   "version": "3.12.4"
  }
 },
 "nbformat": 4,
 "nbformat_minor": 5
}

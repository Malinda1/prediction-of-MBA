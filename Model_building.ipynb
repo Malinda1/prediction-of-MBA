{
 "cells": [
  {
   "cell_type": "code",
   "execution_count": 28,
   "id": "693c5bb6-31fe-463d-8c46-71f94f4e2b8e",
   "metadata": {},
   "outputs": [],
   "source": [
    "import pandas as pd\n",
    "import numpy as np\n",
    "import tensorflow as tf\n",
    "from tensorflow.keras.models import Sequential\n",
    "from tensorflow.keras.layers import Dense, Dropout\n",
    "from tensorflow.keras.optimizers import Adam, SGD\n",
    "from tensorflow.keras.regularizers import l1_l2\n",
    "from tensorflow.keras.callbacks import EarlyStopping, ModelCheckpoint\n",
    "from sklearn.model_selection import train_test_split\n",
    "from sklearn.metrics import roc_curve, precision_recall_curve, auc, confusion_matrix\n",
    "from imblearn.under_sampling import RandomUnderSampler\n",
    "import matplotlib.pyplot as plt\n",
    "import seaborn as sns"
   ]
  },
  {
   "cell_type": "code",
   "execution_count": 17,
   "id": "65571033-055d-4d37-84e7-b54e39d444c2",
   "metadata": {},
   "outputs": [],
   "source": [
    "# Set the random seeds for reproducibility \n",
    "\n",
    "np.random.seed(42)\n",
    "tf.random.set_seed(42)"
   ]
  },
  {
   "cell_type": "code",
   "execution_count": 19,
   "id": "d884ff4b-d574-4a9e-a53f-d1c4cf272cc9",
   "metadata": {},
   "outputs": [
    {
     "name": "stdout",
     "output_type": "stream",
     "text": [
      "Dataset loaded with shape: (10000, 37)\n"
     ]
    }
   ],
   "source": [
    "# Load the dataset\n",
    "\n",
    "try:\n",
    "    data_01 = pd.read_csv(f'feature_engineered_dataset.csv')\n",
    "    print(f'Dataset loaded with shape: {data_01.shape}')\n",
    "except Exception as e:\n",
    "    print(f'Error loading dataset {e}')\n",
    "    # If we can't load the dataset, create a samll dummpy data dataset for code demostration\n",
    "    print('Creating dummy dataset for demostration purpose')\n",
    "    from sklearn.datasets import make_classification\n",
    "    X, y = make_classification(n_samples = 1000, n_feature = 20, n_classes = 2, random_state = 42)\n",
    "    data_01 = pd.DataFrame(X, columns = [f'feature_{i}' for i in range(X.shape[1])])\n",
    "    data_01['target'] =  y"
   ]
  },
  {
   "cell_type": "markdown",
   "id": "b7a4aea9-b959-4967-9b2e-3fdbe41e8f5d",
   "metadata": {},
   "source": [
    "# Handling class imbalace issue"
   ]
  },
  {
   "cell_type": "code",
   "execution_count": 21,
   "id": "c92d102d-88d7-482e-9e06-3096192f28eb",
   "metadata": {},
   "outputs": [
    {
     "data": {
      "text/html": [
       "<div>\n",
       "<style scoped>\n",
       "    .dataframe tbody tr th:only-of-type {\n",
       "        vertical-align: middle;\n",
       "    }\n",
       "\n",
       "    .dataframe tbody tr th {\n",
       "        vertical-align: top;\n",
       "    }\n",
       "\n",
       "    .dataframe thead th {\n",
       "        text-align: right;\n",
       "    }\n",
       "</style>\n",
       "<table border=\"1\" class=\"dataframe\">\n",
       "  <thead>\n",
       "    <tr style=\"text-align: right;\">\n",
       "      <th></th>\n",
       "      <th>encoder__Undergraduate Major_Arts</th>\n",
       "      <th>encoder__Undergraduate Major_Business</th>\n",
       "      <th>encoder__Undergraduate Major_Economics</th>\n",
       "      <th>encoder__Undergraduate Major_Engineering</th>\n",
       "      <th>encoder__Undergraduate Major_Science</th>\n",
       "      <th>encoder__Current Job Title_Analyst</th>\n",
       "      <th>encoder__Current Job Title_Consultant</th>\n",
       "      <th>encoder__Current Job Title_Engineer</th>\n",
       "      <th>encoder__Current Job Title_Entrepreneur</th>\n",
       "      <th>encoder__Current Job Title_Manager</th>\n",
       "      <th>...</th>\n",
       "      <th>remainder__GRE/GMAT Score</th>\n",
       "      <th>remainder__Undergrad University Ranking</th>\n",
       "      <th>remainder__Entrepreneurial Interest</th>\n",
       "      <th>remainder__Networking Importance</th>\n",
       "      <th>remainder__Expected Post-MBA Salary</th>\n",
       "      <th>remainder__Gender</th>\n",
       "      <th>remainder__Has Management Experience</th>\n",
       "      <th>remainder__Location Preference (Post-MBA)</th>\n",
       "      <th>remainder__Online vs. On-Campus MBA</th>\n",
       "      <th>remainder__Decided to Pursue MBA?</th>\n",
       "    </tr>\n",
       "  </thead>\n",
       "  <tbody>\n",
       "    <tr>\n",
       "      <th>0</th>\n",
       "      <td>1.0</td>\n",
       "      <td>0.0</td>\n",
       "      <td>0.0</td>\n",
       "      <td>0.0</td>\n",
       "      <td>0.0</td>\n",
       "      <td>0.0</td>\n",
       "      <td>0.0</td>\n",
       "      <td>0.0</td>\n",
       "      <td>1.0</td>\n",
       "      <td>0.0</td>\n",
       "      <td>...</td>\n",
       "      <td>1.034780</td>\n",
       "      <td>-0.428223</td>\n",
       "      <td>0.936743</td>\n",
       "      <td>0.802780</td>\n",
       "      <td>0.636603</td>\n",
       "      <td>1.0</td>\n",
       "      <td>0.0</td>\n",
       "      <td>1.0</td>\n",
       "      <td>0.0</td>\n",
       "      <td>1.0</td>\n",
       "    </tr>\n",
       "    <tr>\n",
       "      <th>1</th>\n",
       "      <td>1.0</td>\n",
       "      <td>0.0</td>\n",
       "      <td>0.0</td>\n",
       "      <td>0.0</td>\n",
       "      <td>0.0</td>\n",
       "      <td>1.0</td>\n",
       "      <td>0.0</td>\n",
       "      <td>0.0</td>\n",
       "      <td>0.0</td>\n",
       "      <td>0.0</td>\n",
       "      <td>...</td>\n",
       "      <td>1.686449</td>\n",
       "      <td>1.090391</td>\n",
       "      <td>-0.648879</td>\n",
       "      <td>-0.549463</td>\n",
       "      <td>0.869308</td>\n",
       "      <td>1.0</td>\n",
       "      <td>1.0</td>\n",
       "      <td>1.0</td>\n",
       "      <td>1.0</td>\n",
       "      <td>0.0</td>\n",
       "    </tr>\n",
       "    <tr>\n",
       "      <th>2</th>\n",
       "      <td>0.0</td>\n",
       "      <td>1.0</td>\n",
       "      <td>0.0</td>\n",
       "      <td>0.0</td>\n",
       "      <td>0.0</td>\n",
       "      <td>0.0</td>\n",
       "      <td>0.0</td>\n",
       "      <td>1.0</td>\n",
       "      <td>0.0</td>\n",
       "      <td>0.0</td>\n",
       "      <td>...</td>\n",
       "      <td>-0.597554</td>\n",
       "      <td>-0.966640</td>\n",
       "      <td>0.472659</td>\n",
       "      <td>-0.008565</td>\n",
       "      <td>-0.198866</td>\n",
       "      <td>0.0</td>\n",
       "      <td>0.0</td>\n",
       "      <td>0.0</td>\n",
       "      <td>1.0</td>\n",
       "      <td>0.0</td>\n",
       "    </tr>\n",
       "    <tr>\n",
       "      <th>3</th>\n",
       "      <td>0.0</td>\n",
       "      <td>0.0</td>\n",
       "      <td>0.0</td>\n",
       "      <td>1.0</td>\n",
       "      <td>0.0</td>\n",
       "      <td>0.0</td>\n",
       "      <td>0.0</td>\n",
       "      <td>0.0</td>\n",
       "      <td>0.0</td>\n",
       "      <td>1.0</td>\n",
       "      <td>...</td>\n",
       "      <td>-1.065743</td>\n",
       "      <td>0.068778</td>\n",
       "      <td>-1.731744</td>\n",
       "      <td>-0.085837</td>\n",
       "      <td>-0.160710</td>\n",
       "      <td>1.0</td>\n",
       "      <td>0.0</td>\n",
       "      <td>1.0</td>\n",
       "      <td>0.0</td>\n",
       "      <td>0.0</td>\n",
       "    </tr>\n",
       "    <tr>\n",
       "      <th>4</th>\n",
       "      <td>0.0</td>\n",
       "      <td>1.0</td>\n",
       "      <td>0.0</td>\n",
       "      <td>0.0</td>\n",
       "      <td>0.0</td>\n",
       "      <td>0.0</td>\n",
       "      <td>0.0</td>\n",
       "      <td>0.0</td>\n",
       "      <td>1.0</td>\n",
       "      <td>0.0</td>\n",
       "      <td>...</td>\n",
       "      <td>-0.331825</td>\n",
       "      <td>0.627904</td>\n",
       "      <td>1.555523</td>\n",
       "      <td>-0.240379</td>\n",
       "      <td>1.655018</td>\n",
       "      <td>0.0</td>\n",
       "      <td>0.0</td>\n",
       "      <td>0.0</td>\n",
       "      <td>1.0</td>\n",
       "      <td>1.0</td>\n",
       "    </tr>\n",
       "  </tbody>\n",
       "</table>\n",
       "<p>5 rows × 37 columns</p>\n",
       "</div>"
      ],
      "text/plain": [
       "   encoder__Undergraduate Major_Arts  encoder__Undergraduate Major_Business  \\\n",
       "0                                1.0                                    0.0   \n",
       "1                                1.0                                    0.0   \n",
       "2                                0.0                                    1.0   \n",
       "3                                0.0                                    0.0   \n",
       "4                                0.0                                    1.0   \n",
       "\n",
       "   encoder__Undergraduate Major_Economics  \\\n",
       "0                                     0.0   \n",
       "1                                     0.0   \n",
       "2                                     0.0   \n",
       "3                                     0.0   \n",
       "4                                     0.0   \n",
       "\n",
       "   encoder__Undergraduate Major_Engineering  \\\n",
       "0                                       0.0   \n",
       "1                                       0.0   \n",
       "2                                       0.0   \n",
       "3                                       1.0   \n",
       "4                                       0.0   \n",
       "\n",
       "   encoder__Undergraduate Major_Science  encoder__Current Job Title_Analyst  \\\n",
       "0                                   0.0                                 0.0   \n",
       "1                                   0.0                                 1.0   \n",
       "2                                   0.0                                 0.0   \n",
       "3                                   0.0                                 0.0   \n",
       "4                                   0.0                                 0.0   \n",
       "\n",
       "   encoder__Current Job Title_Consultant  encoder__Current Job Title_Engineer  \\\n",
       "0                                    0.0                                  0.0   \n",
       "1                                    0.0                                  0.0   \n",
       "2                                    0.0                                  1.0   \n",
       "3                                    0.0                                  0.0   \n",
       "4                                    0.0                                  0.0   \n",
       "\n",
       "   encoder__Current Job Title_Entrepreneur  \\\n",
       "0                                      1.0   \n",
       "1                                      0.0   \n",
       "2                                      0.0   \n",
       "3                                      0.0   \n",
       "4                                      1.0   \n",
       "\n",
       "   encoder__Current Job Title_Manager  ...  remainder__GRE/GMAT Score  \\\n",
       "0                                 0.0  ...                   1.034780   \n",
       "1                                 0.0  ...                   1.686449   \n",
       "2                                 0.0  ...                  -0.597554   \n",
       "3                                 1.0  ...                  -1.065743   \n",
       "4                                 0.0  ...                  -0.331825   \n",
       "\n",
       "   remainder__Undergrad University Ranking  \\\n",
       "0                                -0.428223   \n",
       "1                                 1.090391   \n",
       "2                                -0.966640   \n",
       "3                                 0.068778   \n",
       "4                                 0.627904   \n",
       "\n",
       "   remainder__Entrepreneurial Interest  remainder__Networking Importance  \\\n",
       "0                             0.936743                          0.802780   \n",
       "1                            -0.648879                         -0.549463   \n",
       "2                             0.472659                         -0.008565   \n",
       "3                            -1.731744                         -0.085837   \n",
       "4                             1.555523                         -0.240379   \n",
       "\n",
       "   remainder__Expected Post-MBA Salary  remainder__Gender  \\\n",
       "0                             0.636603                1.0   \n",
       "1                             0.869308                1.0   \n",
       "2                            -0.198866                0.0   \n",
       "3                            -0.160710                1.0   \n",
       "4                             1.655018                0.0   \n",
       "\n",
       "   remainder__Has Management Experience  \\\n",
       "0                                   0.0   \n",
       "1                                   1.0   \n",
       "2                                   0.0   \n",
       "3                                   0.0   \n",
       "4                                   0.0   \n",
       "\n",
       "   remainder__Location Preference (Post-MBA)  \\\n",
       "0                                        1.0   \n",
       "1                                        1.0   \n",
       "2                                        0.0   \n",
       "3                                        1.0   \n",
       "4                                        0.0   \n",
       "\n",
       "   remainder__Online vs. On-Campus MBA  remainder__Decided to Pursue MBA?  \n",
       "0                                  0.0                                1.0  \n",
       "1                                  1.0                                0.0  \n",
       "2                                  1.0                                0.0  \n",
       "3                                  0.0                                0.0  \n",
       "4                                  1.0                                1.0  \n",
       "\n",
       "[5 rows x 37 columns]"
      ]
     },
     "execution_count": 21,
     "metadata": {},
     "output_type": "execute_result"
    }
   ],
   "source": [
    "data_01.head()"
   ]
  },
  {
   "cell_type": "code",
   "execution_count": 23,
   "id": "421acec4-cab0-4de6-8fd0-7ad91e7b5a9b",
   "metadata": {},
   "outputs": [
    {
     "data": {
      "text/plain": [
       "remainder__Decided to Pursue MBA?\n",
       "1.0    5907\n",
       "0.0    4093\n",
       "Name: count, dtype: int64"
      ]
     },
     "execution_count": 23,
     "metadata": {},
     "output_type": "execute_result"
    }
   ],
   "source": [
    "data_01['remainder__Decided to Pursue MBA?'].value_counts()"
   ]
  },
  {
   "cell_type": "code",
   "execution_count": 25,
   "id": "7a166aa4-fec4-4192-b16e-152027138cff",
   "metadata": {},
   "outputs": [
    {
     "data": {
      "image/png": "[encoded data removed]",
      "text/plain": [
       "<Figure size 1000x600 with 1 Axes>"
      ]
     },
     "metadata": {},
     "output_type": "display_data"
    }
   ],
   "source": [
    "# Get value counts of the column\n",
    "value_counts = data_01['remainder__Decided to Pursue MBA?'].value_counts()\n",
    "\n",
    "# Create a count plot\n",
    "plt.figure(figsize=(10, 6))  # Set the figure size\n",
    "sns.countplot(x='remainder__Decided to Pursue MBA?',\n",
    "              data=data_01,\n",
    "              order=value_counts.index,\n",
    "              hue = 'remainder__Decided to Pursue MBA?',\n",
    "              palette='Set2')\n",
    "\n",
    "# Add labels and title\n",
    "plt.title('Count of Decided to Pursue MBA', fontsize=16)\n",
    "plt.xlabel('Decided to Pursue MBA?', fontsize=14)\n",
    "plt.ylabel('Count', fontsize=14)\n",
    "\n",
    "# Show the plot\n",
    "plt.show()"
   ]
  },
  {
   "cell_type": "code",
   "execution_count": 30,
   "id": "aed47ba3-380d-4193-bcf9-53f364279994",
   "metadata": {},
   "outputs": [],
   "source": [
    "X = data_01.drop(columns = ['remainder__Decided to Pursue MBA?'], axis = 1)\n",
    "y = data_01['remainder__Decided to Pursue MBA?']\n",
    "\n",
    "X_train, X_test, y_train, y_test = train_test_split(X, y, test_size = 0.3, random_state = 101)\n",
    "\n",
    "undersampler = RandomUnderSampler(random_state=42)\n",
    "X_train_resampled, y_train_resampled = undersampler.fit_resample(X_train, y_train)"
   ]
  },
  {
   "cell_type": "code",
   "execution_count": 32,
   "id": "8c955b3b-55ca-4a03-ab22-8cb9ba5fd79f",
   "metadata": {},
   "outputs": [],
   "source": [
    "# Ensure the class is balance"
   ]
  },
  {
   "cell_type": "code",
   "execution_count": 42,
   "id": "c46f6804-c0a1-4e65-bac2-9a62f987d422",
   "metadata": {},
   "outputs": [
    {
     "name": "stderr",
     "output_type": "stream",
     "text": [
      "/var/folders/ng/y3jq4z5556l47rj1150jg7jm0000gn/T/ipykernel_1289/1156063315.py:3: FutureWarning: \n",
      "\n",
      "Passing `palette` without assigning `hue` is deprecated and will be removed in v0.14.0. Assign the `x` variable to `hue` and set `legend=False` for the same effect.\n",
      "\n",
      "  sns.countplot(x=y_train_resampled, palette='viridis')\n"
     ]
    },
    {
     "data": {
      "image/png": "[encoded data removed]",
      "text/plain": [
       "<Figure size 800x600 with 1 Axes>"
      ]
     },
     "metadata": {},
     "output_type": "display_data"
    }
   ],
   "source": [
    "# Create a count plot to visualize the class distribution after undersampling\n",
    "plt.figure(figsize=(8, 6))\n",
    "sns.countplot(x=y_train_resampled, palette='viridis')\n",
    "plt.title('Class Distribution After Undersampling')\n",
    "plt.xlabel('Class')\n",
    "plt.ylabel('Count')\n",
    "plt.show()"
   ]
  },
  {
   "cell_type": "code",
   "execution_count": 40,
   "id": "46c314b6-4f42-428d-a1a8-eb636dd8f951",
   "metadata": {},
   "outputs": [
    {
     "data": {
      "text/plain": [
       "1387    0.0\n",
       "921     0.0\n",
       "6167    0.0\n",
       "1199    0.0\n",
       "6506    0.0\n",
       "       ... \n",
       "3313    1.0\n",
       "8779    1.0\n",
       "7493    1.0\n",
       "5300    1.0\n",
       "817     1.0\n",
       "Name: remainder__Decided to Pursue MBA?, Length: 5808, dtype: float64"
      ]
     },
     "execution_count": 40,
     "metadata": {},
     "output_type": "execute_result"
    }
   ],
   "source": [
    "y_train_resampled"
   ]
  },
  {
   "cell_type": "code",
   "execution_count": 50,
   "id": "c3ec827e-c30e-4882-8c8c-d57ecc3dcbda",
   "metadata": {},
   "outputs": [
    {
     "name": "stdout",
     "output_type": "stream",
     "text": [
      "Dataset loaded: 10000 samples, 36 features\n",
      "Target distribution: [4093 5907]\n",
      "Original training set shape: [2904 4096]\n",
      "Resampled training set shape: [2904 2904]\n",
      "Epoch 1/200\n"
     ]
    },
    {
     "name": "stderr",
     "output_type": "stream",
     "text": [
      "/opt/anaconda3/lib/python3.12/site-packages/keras/src/layers/core/dense.py:87: UserWarning: Do not pass an `input_shape`/`input_dim` argument to a layer. When using Sequential models, prefer using an `Input(shape)` object as the first layer in the model instead.\n",
      "  super().__init__(activity_regularizer=activity_regularizer, **kwargs)\n"
     ]
    },
    {
     "name": "stdout",
     "output_type": "stream",
     "text": [
      "\u001b[1m 1/73\u001b[0m \u001b[37m━━━━━━━━━━━━━━━━━━━━\u001b[0m \u001b[1m35s\u001b[0m 488ms/step - accuracy: 0.5781 - loss: 0.7881\n",
      "Epoch 1: val_loss improved from inf to 0.99007, saving model to best_model.h5\n"
     ]
    },
    {
     "name": "stderr",
     "output_type": "stream",
     "text": [
      "WARNING:absl:You are saving your model as an HDF5 file via `model.save()` or `keras.saving.save_model(model)`. This file format is considered legacy. We recommend using instead the native Keras format, e.g. `model.save('my_model.keras')` or `keras.saving.save_model(model, 'my_model.keras')`. \n"
     ]
    },
    {
     "name": "stdout",
     "output_type": "stream",
     "text": [
      "\u001b[1m73/73\u001b[0m \u001b[32m━━━━━━━━━━━━━━━━━━━━\u001b[0m\u001b[37m\u001b[0m \u001b[1m1s\u001b[0m 2ms/step - accuracy: 0.6159 - loss: 0.7738 - val_accuracy: 8.6059e-04 - val_loss: 0.9901\n",
      "Epoch 2/200\n",
      "\u001b[1m 1/73\u001b[0m \u001b[37m━━━━━━━━━━━━━━━━━━━━\u001b[0m \u001b[1m0s\u001b[0m 6ms/step - accuracy: 0.6094 - loss: 0.7673\n",
      "Epoch 2: val_loss did not improve from 0.99007\n",
      "\u001b[1m73/73\u001b[0m \u001b[32m━━━━━━━━━━━━━━━━━━━━\u001b[0m\u001b[37m\u001b[0m \u001b[1m0s\u001b[0m 881us/step - accuracy: 0.6235 - loss: 0.7554 - val_accuracy: 0.0017 - val_loss: 0.9943\n",
      "Epoch 3/200\n",
      "\u001b[1m 1/73\u001b[0m \u001b[37m━━━━━━━━━━━━━━━━━━━━\u001b[0m \u001b[1m0s\u001b[0m 5ms/step - accuracy: 0.6562 - loss: 0.7554\n",
      "Epoch 3: val_loss improved from 0.99007 to 0.97629, saving model to best_model.h5\n"
     ]
    },
    {
     "name": "stderr",
     "output_type": "stream",
     "text": [
      "WARNING:absl:You are saving your model as an HDF5 file via `model.save()` or `keras.saving.save_model(model)`. This file format is considered legacy. We recommend using instead the native Keras format, e.g. `model.save('my_model.keras')` or `keras.saving.save_model(model, 'my_model.keras')`. \n"
     ]
    },
    {
     "name": "stdout",
     "output_type": "stream",
     "text": [
      "\u001b[1m73/73\u001b[0m \u001b[32m━━━━━━━━━━━━━━━━━━━━\u001b[0m\u001b[37m\u001b[0m \u001b[1m0s\u001b[0m 914us/step - accuracy: 0.6231 - loss: 0.7469 - val_accuracy: 8.6059e-04 - val_loss: 0.9763\n",
      "Epoch 4/200\n",
      "\u001b[1m 1/73\u001b[0m \u001b[37m━━━━━━━━━━━━━━━━━━━━\u001b[0m \u001b[1m0s\u001b[0m 6ms/step - accuracy: 0.6094 - loss: 0.7365\n",
      "Epoch 4: val_loss improved from 0.97629 to 0.96741, saving model to best_model.h5\n"
     ]
    },
    {
     "name": "stderr",
     "output_type": "stream",
     "text": [
      "WARNING:absl:You are saving your model as an HDF5 file via `model.save()` or `keras.saving.save_model(model)`. This file format is considered legacy. We recommend using instead the native Keras format, e.g. `model.save('my_model.keras')` or `keras.saving.save_model(model, 'my_model.keras')`. \n"
     ]
    },
    {
     "name": "stdout",
     "output_type": "stream",
     "text": [
      "\u001b[1m73/73\u001b[0m \u001b[32m━━━━━━━━━━━━━━━━━━━━\u001b[0m\u001b[37m\u001b[0m \u001b[1m0s\u001b[0m 1ms/step - accuracy: 0.6183 - loss: 0.7396 - val_accuracy: 0.0017 - val_loss: 0.9674\n",
      "Epoch 5/200\n",
      "\u001b[1m 1/73\u001b[0m \u001b[37m━━━━━━━━━━━━━━━━━━━━\u001b[0m \u001b[1m0s\u001b[0m 8ms/step - accuracy: 0.6406 - loss: 0.7216\n",
      "Epoch 5: val_loss improved from 0.96741 to 0.96661, saving model to best_model.h5\n"
     ]
    },
    {
     "name": "stderr",
     "output_type": "stream",
     "text": [
      "WARNING:absl:You are saving your model as an HDF5 file via `model.save()` or `keras.saving.save_model(model)`. This file format is considered legacy. We recommend using instead the native Keras format, e.g. `model.save('my_model.keras')` or `keras.saving.save_model(model, 'my_model.keras')`. \n"
     ]
    },
    {
     "name": "stdout",
     "output_type": "stream",
     "text": [
      "\u001b[1m73/73\u001b[0m \u001b[32m━━━━━━━━━━━━━━━━━━━━\u001b[0m\u001b[37m\u001b[0m \u001b[1m0s\u001b[0m 932us/step - accuracy: 0.6301 - loss: 0.7294 - val_accuracy: 8.6059e-04 - val_loss: 0.9666\n",
      "Epoch 6/200\n",
      "\u001b[1m 1/73\u001b[0m \u001b[37m━━━━━━━━━━━━━━━━━━━━\u001b[0m \u001b[1m0s\u001b[0m 7ms/step - accuracy: 0.6250 - loss: 0.7291\n",
      "Epoch 6: val_loss did not improve from 0.96661\n",
      "\u001b[1m73/73\u001b[0m \u001b[32m━━━━━━━━━━━━━━━━━━━━\u001b[0m\u001b[37m\u001b[0m \u001b[1m0s\u001b[0m 866us/step - accuracy: 0.6270 - loss: 0.7247 - val_accuracy: 0.0026 - val_loss: 0.9668\n",
      "Epoch 7/200\n",
      "\u001b[1m 1/73\u001b[0m \u001b[37m━━━━━━━━━━━━━━━━━━━━\u001b[0m \u001b[1m0s\u001b[0m 7ms/step - accuracy: 0.6406 - loss: 0.7311\n",
      "Epoch 7: val_loss did not improve from 0.96661\n",
      "\u001b[1m73/73\u001b[0m \u001b[32m━━━━━━━━━━━━━━━━━━━━\u001b[0m\u001b[37m\u001b[0m \u001b[1m0s\u001b[0m 883us/step - accuracy: 0.6263 - loss: 0.7201 - val_accuracy: 0.0069 - val_loss: 0.9744\n",
      "Epoch 8/200\n",
      "\u001b[1m 1/73\u001b[0m \u001b[37m━━━━━━━━━━━━━━━━━━━━\u001b[0m \u001b[1m0s\u001b[0m 6ms/step - accuracy: 0.6094 - loss: 0.7347\n",
      "Epoch 8: val_loss improved from 0.96661 to 0.96146, saving model to best_model.h5\n"
     ]
    },
    {
     "name": "stderr",
     "output_type": "stream",
     "text": [
      "WARNING:absl:You are saving your model as an HDF5 file via `model.save()` or `keras.saving.save_model(model)`. This file format is considered legacy. We recommend using instead the native Keras format, e.g. `model.save('my_model.keras')` or `keras.saving.save_model(model, 'my_model.keras')`. \n"
     ]
    },
    {
     "name": "stdout",
     "output_type": "stream",
     "text": [
      "\u001b[1m73/73\u001b[0m \u001b[32m━━━━━━━━━━━━━━━━━━━━\u001b[0m\u001b[37m\u001b[0m \u001b[1m0s\u001b[0m 910us/step - accuracy: 0.6250 - loss: 0.7145 - val_accuracy: 0.0077 - val_loss: 0.9615\n",
      "Epoch 9/200\n",
      "\u001b[1m 1/73\u001b[0m \u001b[37m━━━━━━━━━━━━━━━━━━━━\u001b[0m \u001b[1m0s\u001b[0m 6ms/step - accuracy: 0.6406 - loss: 0.7284\n",
      "Epoch 9: val_loss improved from 0.96146 to 0.95688, saving model to best_model.h5\n"
     ]
    },
    {
     "name": "stderr",
     "output_type": "stream",
     "text": [
      "WARNING:absl:You are saving your model as an HDF5 file via `model.save()` or `keras.saving.save_model(model)`. This file format is considered legacy. We recommend using instead the native Keras format, e.g. `model.save('my_model.keras')` or `keras.saving.save_model(model, 'my_model.keras')`. \n"
     ]
    },
    {
     "name": "stdout",
     "output_type": "stream",
     "text": [
      "\u001b[1m73/73\u001b[0m \u001b[32m━━━━━━━━━━━━━━━━━━━━\u001b[0m\u001b[37m\u001b[0m \u001b[1m0s\u001b[0m 925us/step - accuracy: 0.6277 - loss: 0.7085 - val_accuracy: 0.0077 - val_loss: 0.9569\n",
      "Epoch 10/200\n",
      "\u001b[1m 1/73\u001b[0m \u001b[37m━━━━━━━━━━━━━━━━━━━━\u001b[0m \u001b[1m0s\u001b[0m 6ms/step - accuracy: 0.6562 - loss: 0.7017\n",
      "Epoch 10: val_loss improved from 0.95688 to 0.94937, saving model to best_model.h5\n"
     ]
    },
    {
     "name": "stderr",
     "output_type": "stream",
     "text": [
      "WARNING:absl:You are saving your model as an HDF5 file via `model.save()` or `keras.saving.save_model(model)`. This file format is considered legacy. We recommend using instead the native Keras format, e.g. `model.save('my_model.keras')` or `keras.saving.save_model(model, 'my_model.keras')`. \n"
     ]
    },
    {
     "name": "stdout",
     "output_type": "stream",
     "text": [
      "\u001b[1m73/73\u001b[0m \u001b[32m━━━━━━━━━━━━━━━━━━━━\u001b[0m\u001b[37m\u001b[0m \u001b[1m0s\u001b[0m 906us/step - accuracy: 0.6273 - loss: 0.7033 - val_accuracy: 0.0095 - val_loss: 0.9494\n",
      "Epoch 11/200\n",
      "\u001b[1m 1/73\u001b[0m \u001b[37m━━━━━━━━━━━━━━━━━━━━\u001b[0m \u001b[1m0s\u001b[0m 6ms/step - accuracy: 0.6094 - loss: 0.7287\n",
      "Epoch 11: val_loss did not improve from 0.94937\n",
      "\u001b[1m73/73\u001b[0m \u001b[32m━━━━━━━━━━━━━━━━━━━━\u001b[0m\u001b[37m\u001b[0m \u001b[1m0s\u001b[0m 816us/step - accuracy: 0.6282 - loss: 0.7019 - val_accuracy: 0.0077 - val_loss: 0.9649\n",
      "Epoch 12/200\n",
      "\u001b[1m 1/73\u001b[0m \u001b[37m━━━━━━━━━━━━━━━━━━━━\u001b[0m \u001b[1m0s\u001b[0m 5ms/step - accuracy: 0.6094 - loss: 0.7034\n",
      "Epoch 12: val_loss improved from 0.94937 to 0.94855, saving model to best_model.h5\n"
     ]
    },
    {
     "name": "stderr",
     "output_type": "stream",
     "text": [
      "WARNING:absl:You are saving your model as an HDF5 file via `model.save()` or `keras.saving.save_model(model)`. This file format is considered legacy. We recommend using instead the native Keras format, e.g. `model.save('my_model.keras')` or `keras.saving.save_model(model, 'my_model.keras')`. \n"
     ]
    },
    {
     "name": "stdout",
     "output_type": "stream",
     "text": [
      "\u001b[1m73/73\u001b[0m \u001b[32m━━━━━━━━━━━━━━━━━━━━\u001b[0m\u001b[37m\u001b[0m \u001b[1m0s\u001b[0m 1ms/step - accuracy: 0.6273 - loss: 0.6954 - val_accuracy: 0.0164 - val_loss: 0.9486\n",
      "Epoch 13/200\n",
      "\u001b[1m 1/73\u001b[0m \u001b[37m━━━━━━━━━━━━━━━━━━━━\u001b[0m \u001b[1m0s\u001b[0m 7ms/step - accuracy: 0.6250 - loss: 0.7113\n",
      "Epoch 13: val_loss improved from 0.94855 to 0.94209, saving model to best_model.h5\n"
     ]
    },
    {
     "name": "stderr",
     "output_type": "stream",
     "text": [
      "WARNING:absl:You are saving your model as an HDF5 file via `model.save()` or `keras.saving.save_model(model)`. This file format is considered legacy. We recommend using instead the native Keras format, e.g. `model.save('my_model.keras')` or `keras.saving.save_model(model, 'my_model.keras')`. \n"
     ]
    },
    {
     "name": "stdout",
     "output_type": "stream",
     "text": [
      "\u001b[1m73/73\u001b[0m \u001b[32m━━━━━━━━━━━━━━━━━━━━\u001b[0m\u001b[37m\u001b[0m \u001b[1m0s\u001b[0m 945us/step - accuracy: 0.6319 - loss: 0.6899 - val_accuracy: 0.0293 - val_loss: 0.9421\n",
      "Epoch 14/200\n",
      "\u001b[1m 1/73\u001b[0m \u001b[37m━━━━━━━━━━━━━━━━━━━━\u001b[0m \u001b[1m0s\u001b[0m 6ms/step - accuracy: 0.6562 - loss: 0.6755\n",
      "Epoch 14: val_loss did not improve from 0.94209\n",
      "\u001b[1m73/73\u001b[0m \u001b[32m━━━━━━━━━━━━━━━━━━━━\u001b[0m\u001b[37m\u001b[0m \u001b[1m0s\u001b[0m 862us/step - accuracy: 0.6322 - loss: 0.6857 - val_accuracy: 0.0448 - val_loss: 0.9450\n",
      "Epoch 15/200\n",
      "\u001b[1m 1/73\u001b[0m \u001b[37m━━━━━━━━━━━━━━━━━━━━\u001b[0m \u001b[1m0s\u001b[0m 5ms/step - accuracy: 0.5938 - loss: 0.7105\n",
      "Epoch 15: val_loss did not improve from 0.94209\n",
      "\u001b[1m73/73\u001b[0m \u001b[32m━━━━━━━━━━━━━━━━━━━━\u001b[0m\u001b[37m\u001b[0m \u001b[1m0s\u001b[0m 869us/step - accuracy: 0.6369 - loss: 0.6873 - val_accuracy: 0.0542 - val_loss: 0.9429\n",
      "Epoch 16/200\n",
      "\u001b[1m 1/73\u001b[0m \u001b[37m━━━━━━━━━━━━━━━━━━━━\u001b[0m \u001b[1m0s\u001b[0m 5ms/step - accuracy: 0.6250 - loss: 0.7125\n",
      "Epoch 16: val_loss did not improve from 0.94209\n",
      "\u001b[1m73/73\u001b[0m \u001b[32m━━━━━━━━━━━━━━━━━━━━\u001b[0m\u001b[37m\u001b[0m \u001b[1m0s\u001b[0m 914us/step - accuracy: 0.6393 - loss: 0.6798 - val_accuracy: 0.0585 - val_loss: 0.9443\n",
      "Epoch 17/200\n",
      "\u001b[1m 1/73\u001b[0m \u001b[37m━━━━━━━━━━━━━━━━━━━━\u001b[0m \u001b[1m0s\u001b[0m 7ms/step - accuracy: 0.6250 - loss: 0.6936\n",
      "Epoch 17: val_loss improved from 0.94209 to 0.94198, saving model to best_model.h5\n"
     ]
    },
    {
     "name": "stderr",
     "output_type": "stream",
     "text": [
      "WARNING:absl:You are saving your model as an HDF5 file via `model.save()` or `keras.saving.save_model(model)`. This file format is considered legacy. We recommend using instead the native Keras format, e.g. `model.save('my_model.keras')` or `keras.saving.save_model(model, 'my_model.keras')`. \n"
     ]
    },
    {
     "name": "stdout",
     "output_type": "stream",
     "text": [
      "\u001b[1m73/73\u001b[0m \u001b[32m━━━━━━━━━━━━━━━━━━━━\u001b[0m\u001b[37m\u001b[0m \u001b[1m0s\u001b[0m 1ms/step - accuracy: 0.6364 - loss: 0.6817 - val_accuracy: 0.0628 - val_loss: 0.9420\n",
      "Epoch 18/200\n",
      "\u001b[1m 1/73\u001b[0m \u001b[37m━━━━━━━━━━━━━━━━━━━━\u001b[0m \u001b[1m0s\u001b[0m 8ms/step - accuracy: 0.5938 - loss: 0.6945\n",
      "Epoch 18: val_loss improved from 0.94198 to 0.93606, saving model to best_model.h5\n"
     ]
    },
    {
     "name": "stderr",
     "output_type": "stream",
     "text": [
      "WARNING:absl:You are saving your model as an HDF5 file via `model.save()` or `keras.saving.save_model(model)`. This file format is considered legacy. We recommend using instead the native Keras format, e.g. `model.save('my_model.keras')` or `keras.saving.save_model(model, 'my_model.keras')`. \n"
     ]
    },
    {
     "name": "stdout",
     "output_type": "stream",
     "text": [
      "\u001b[1m73/73\u001b[0m \u001b[32m━━━━━━━━━━━━━━━━━━━━\u001b[0m\u001b[37m\u001b[0m \u001b[1m0s\u001b[0m 1ms/step - accuracy: 0.6351 - loss: 0.6781 - val_accuracy: 0.0775 - val_loss: 0.9361\n",
      "Epoch 19/200\n",
      "\u001b[1m 1/73\u001b[0m \u001b[37m━━━━━━━━━━━━━━━━━━━━\u001b[0m \u001b[1m0s\u001b[0m 6ms/step - accuracy: 0.5625 - loss: 0.6804\n",
      "Epoch 19: val_loss did not improve from 0.93606\n",
      "\u001b[1m73/73\u001b[0m \u001b[32m━━━━━━━━━━━━━━━━━━━━\u001b[0m\u001b[37m\u001b[0m \u001b[1m0s\u001b[0m 861us/step - accuracy: 0.6351 - loss: 0.6751 - val_accuracy: 0.0688 - val_loss: 0.9423\n",
      "Epoch 20/200\n",
      "\u001b[1m 1/73\u001b[0m \u001b[37m━━━━━━━━━━━━━━━━━━━━\u001b[0m \u001b[1m0s\u001b[0m 7ms/step - accuracy: 0.6094 - loss: 0.7223\n",
      "Epoch 20: val_loss did not improve from 0.93606\n",
      "\u001b[1m73/73\u001b[0m \u001b[32m━━━━━━━━━━━━━━━━━━━━\u001b[0m\u001b[37m\u001b[0m \u001b[1m0s\u001b[0m 889us/step - accuracy: 0.6298 - loss: 0.6759 - val_accuracy: 0.0559 - val_loss: 0.9647\n",
      "Epoch 21/200\n",
      "\u001b[1m 1/73\u001b[0m \u001b[37m━━━━━━━━━━━━━━━━━━━━\u001b[0m \u001b[1m0s\u001b[0m 6ms/step - accuracy: 0.6094 - loss: 0.6920\n",
      "Epoch 21: val_loss did not improve from 0.93606\n",
      "\u001b[1m73/73\u001b[0m \u001b[32m━━━━━━━━━━━━━━━━━━━━\u001b[0m\u001b[37m\u001b[0m \u001b[1m0s\u001b[0m 822us/step - accuracy: 0.6407 - loss: 0.6701 - val_accuracy: 0.0602 - val_loss: 0.9532\n",
      "Epoch 22/200\n",
      "\u001b[1m 1/73\u001b[0m \u001b[37m━━━━━━━━━━━━━━━━━━━━\u001b[0m \u001b[1m0s\u001b[0m 6ms/step - accuracy: 0.6406 - loss: 0.6662\n",
      "Epoch 22: val_loss did not improve from 0.93606\n",
      "\u001b[1m73/73\u001b[0m \u001b[32m━━━━━━━━━━━━━━━━━━━━\u001b[0m\u001b[37m\u001b[0m \u001b[1m0s\u001b[0m 848us/step - accuracy: 0.6472 - loss: 0.6648 - val_accuracy: 0.0843 - val_loss: 0.9567\n",
      "Epoch 23/200\n",
      "\u001b[1m 1/73\u001b[0m \u001b[37m━━━━━━━━━━━━━━━━━━━━\u001b[0m \u001b[1m0s\u001b[0m 6ms/step - accuracy: 0.6562 - loss: 0.7085\n",
      "Epoch 23: val_loss did not improve from 0.93606\n",
      "\u001b[1m73/73\u001b[0m \u001b[32m━━━━━━━━━━━━━━━━━━━━\u001b[0m\u001b[37m\u001b[0m \u001b[1m0s\u001b[0m 860us/step - accuracy: 0.6464 - loss: 0.6643 - val_accuracy: 0.0964 - val_loss: 0.9562\n",
      "Epoch 24/200\n",
      "\u001b[1m 1/73\u001b[0m \u001b[37m━━━━━━━━━━━━━━━━━━━━\u001b[0m \u001b[1m0s\u001b[0m 6ms/step - accuracy: 0.6875 - loss: 0.6549\n",
      "Epoch 24: val_loss did not improve from 0.93606\n",
      "\u001b[1m73/73\u001b[0m \u001b[32m━━━━━━━━━━━━━━━━━━━━\u001b[0m\u001b[37m\u001b[0m \u001b[1m0s\u001b[0m 880us/step - accuracy: 0.6565 - loss: 0.6604 - val_accuracy: 0.1050 - val_loss: 0.9518\n",
      "Epoch 25/200\n",
      "\u001b[1m 1/73\u001b[0m \u001b[37m━━━━━━━━━━━━━━━━━━━━\u001b[0m \u001b[1m0s\u001b[0m 6ms/step - accuracy: 0.6875 - loss: 0.7017\n",
      "Epoch 25: val_loss did not improve from 0.93606\n",
      "\u001b[1m73/73\u001b[0m \u001b[32m━━━━━━━━━━━━━━━━━━━━\u001b[0m\u001b[37m\u001b[0m \u001b[1m0s\u001b[0m 899us/step - accuracy: 0.6424 - loss: 0.6654 - val_accuracy: 0.1222 - val_loss: 0.9385\n",
      "Epoch 26/200\n",
      "\u001b[1m 1/73\u001b[0m \u001b[37m━━━━━━━━━━━━━━━━━━━━\u001b[0m \u001b[1m0s\u001b[0m 6ms/step - accuracy: 0.6562 - loss: 0.6497\n",
      "Epoch 26: val_loss did not improve from 0.93606\n",
      "\u001b[1m73/73\u001b[0m \u001b[32m━━━━━━━━━━━━━━━━━━━━\u001b[0m\u001b[37m\u001b[0m \u001b[1m0s\u001b[0m 859us/step - accuracy: 0.6580 - loss: 0.6561 - val_accuracy: 0.1343 - val_loss: 0.9559\n",
      "Epoch 27/200\n",
      "\u001b[1m 1/73\u001b[0m \u001b[37m━━━━━━━━━━━━━━━━━━━━\u001b[0m \u001b[1m0s\u001b[0m 6ms/step - accuracy: 0.5781 - loss: 0.6858\n",
      "Epoch 27: val_loss did not improve from 0.93606\n",
      "\u001b[1m73/73\u001b[0m \u001b[32m━━━━━━━━━━━━━━━━━━━━\u001b[0m\u001b[37m\u001b[0m \u001b[1m0s\u001b[0m 892us/step - accuracy: 0.6469 - loss: 0.6623 - val_accuracy: 0.1274 - val_loss: 0.9616\n",
      "Epoch 28/200\n",
      "\u001b[1m 1/73\u001b[0m \u001b[37m━━━━━━━━━━━━━━━━━━━━\u001b[0m \u001b[1m0s\u001b[0m 6ms/step - accuracy: 0.5781 - loss: 0.6731\n",
      "Epoch 28: val_loss did not improve from 0.93606\n",
      "\u001b[1m73/73\u001b[0m \u001b[32m━━━━━━━━━━━━━━━━━━━━\u001b[0m\u001b[37m\u001b[0m \u001b[1m0s\u001b[0m 848us/step - accuracy: 0.6532 - loss: 0.6566 - val_accuracy: 0.1437 - val_loss: 0.9609\n",
      "Epoch 29/200\n",
      "\u001b[1m 1/73\u001b[0m \u001b[37m━━━━━━━━━━━━━━━━━━━━\u001b[0m \u001b[1m0s\u001b[0m 6ms/step - accuracy: 0.6250 - loss: 0.7094\n",
      "Epoch 29: val_loss did not improve from 0.93606\n",
      "\u001b[1m73/73\u001b[0m \u001b[32m━━━━━━━━━━━━━━━━━━━━\u001b[0m\u001b[37m\u001b[0m \u001b[1m0s\u001b[0m 885us/step - accuracy: 0.6531 - loss: 0.6541 - val_accuracy: 0.1635 - val_loss: 0.9624\n",
      "Epoch 30/200\n",
      "\u001b[1m 1/73\u001b[0m \u001b[37m━━━━━━━━━━━━━━━━━━━━\u001b[0m \u001b[1m0s\u001b[0m 6ms/step - accuracy: 0.6562 - loss: 0.6801\n",
      "Epoch 30: val_loss did not improve from 0.93606\n",
      "\u001b[1m73/73\u001b[0m \u001b[32m━━━━━━━━━━━━━━━━━━━━\u001b[0m\u001b[37m\u001b[0m \u001b[1m0s\u001b[0m 880us/step - accuracy: 0.6550 - loss: 0.6501 - val_accuracy: 0.1721 - val_loss: 0.9533\n",
      "Epoch 31/200\n",
      "\u001b[1m 1/73\u001b[0m \u001b[37m━━━━━━━━━━━━━━━━━━━━\u001b[0m \u001b[1m0s\u001b[0m 7ms/step - accuracy: 0.7031 - loss: 0.6655\n",
      "Epoch 31: val_loss did not improve from 0.93606\n",
      "\u001b[1m73/73\u001b[0m \u001b[32m━━━━━━━━━━━━━━━━━━━━\u001b[0m\u001b[37m\u001b[0m \u001b[1m0s\u001b[0m 884us/step - accuracy: 0.6641 - loss: 0.6483 - val_accuracy: 0.1515 - val_loss: 0.9660\n",
      "Epoch 32/200\n",
      "\u001b[1m 1/73\u001b[0m \u001b[37m━━━━━━━━━━━━━━━━━━━━\u001b[0m \u001b[1m0s\u001b[0m 7ms/step - accuracy: 0.6875 - loss: 0.6423\n",
      "Epoch 32: val_loss did not improve from 0.93606\n",
      "\u001b[1m73/73\u001b[0m \u001b[32m━━━━━━━━━━━━━━━━━━━━\u001b[0m\u001b[37m\u001b[0m \u001b[1m0s\u001b[0m 857us/step - accuracy: 0.6637 - loss: 0.6440 - val_accuracy: 0.1695 - val_loss: 0.9706\n",
      "Epoch 33/200\n",
      "\u001b[1m 1/73\u001b[0m \u001b[37m━━━━━━━━━━━━━━━━━━━━\u001b[0m \u001b[1m0s\u001b[0m 6ms/step - accuracy: 0.6562 - loss: 0.6850\n",
      "Epoch 33: val_loss did not improve from 0.93606\n",
      "\u001b[1m73/73\u001b[0m \u001b[32m━━━━━━━━━━━━━━━━━━━━\u001b[0m\u001b[37m\u001b[0m \u001b[1m0s\u001b[0m 875us/step - accuracy: 0.6531 - loss: 0.6506 - val_accuracy: 0.1695 - val_loss: 0.9588\n",
      "Epoch 34/200\n",
      "\u001b[1m 1/73\u001b[0m \u001b[37m━━━━━━━━━━━━━━━━━━━━\u001b[0m \u001b[1m0s\u001b[0m 6ms/step - accuracy: 0.6719 - loss: 0.6340\n",
      "Epoch 34: val_loss did not improve from 0.93606\n",
      "\u001b[1m73/73\u001b[0m \u001b[32m━━━━━━━━━━━━━━━━━━━━\u001b[0m\u001b[37m\u001b[0m \u001b[1m0s\u001b[0m 855us/step - accuracy: 0.6651 - loss: 0.6429 - val_accuracy: 0.1618 - val_loss: 0.9689\n",
      "Epoch 35/200\n",
      "\u001b[1m 1/73\u001b[0m \u001b[37m━━━━━━━━━━━━━━━━━━━━\u001b[0m \u001b[1m0s\u001b[0m 6ms/step - accuracy: 0.6719 - loss: 0.6263\n",
      "Epoch 35: val_loss did not improve from 0.93606\n",
      "\u001b[1m73/73\u001b[0m \u001b[32m━━━━━━━━━━━━━━━━━━━━\u001b[0m\u001b[37m\u001b[0m \u001b[1m0s\u001b[0m 845us/step - accuracy: 0.6700 - loss: 0.6338 - val_accuracy: 0.1799 - val_loss: 0.9800\n",
      "Epoch 36/200\n",
      "\u001b[1m67/73\u001b[0m \u001b[32m━━━━━━━━━━━━━━━━━━\u001b[0m\u001b[37m━━\u001b[0m \u001b[1m0s\u001b[0m 766us/step - accuracy: 0.6571 - loss: 0.6408\n",
      "Epoch 36: val_loss did not improve from 0.93606\n",
      "\u001b[1m73/73\u001b[0m \u001b[32m━━━━━━━━━━━━━━━━━━━━\u001b[0m\u001b[37m\u001b[0m \u001b[1m0s\u001b[0m 1ms/step - accuracy: 0.6571 - loss: 0.6406 - val_accuracy: 0.1756 - val_loss: 0.9902\n",
      "Epoch 37/200\n",
      "\u001b[1m 1/73\u001b[0m \u001b[37m━━━━━━━━━━━━━━━━━━━━\u001b[0m \u001b[1m0s\u001b[0m 7ms/step - accuracy: 0.5781 - loss: 0.7008\n",
      "Epoch 37: val_loss did not improve from 0.93606\n",
      "\u001b[1m73/73\u001b[0m \u001b[32m━━━━━━━━━━━━━━━━━━━━\u001b[0m\u001b[37m\u001b[0m \u001b[1m0s\u001b[0m 904us/step - accuracy: 0.6605 - loss: 0.6428 - val_accuracy: 0.1756 - val_loss: 0.9891\n",
      "Epoch 38/200\n",
      "\u001b[1m 1/73\u001b[0m \u001b[37m━━━━━━━━━━━━━━━━━━━━\u001b[0m \u001b[1m0s\u001b[0m 7ms/step - accuracy: 0.5938 - loss: 0.7044\n",
      "Epoch 38: val_loss did not improve from 0.93606\n",
      "\u001b[1m73/73\u001b[0m \u001b[32m━━━━━━━━━━━━━━━━━━━━\u001b[0m\u001b[37m\u001b[0m \u001b[1m0s\u001b[0m 854us/step - accuracy: 0.6685 - loss: 0.6440 - val_accuracy: 0.1962 - val_loss: 0.9829\n",
      "\u001b[1m94/94\u001b[0m \u001b[32m━━━━━━━━━━━━━━━━━━━━\u001b[0m\u001b[37m\u001b[0m \u001b[1m0s\u001b[0m 307us/step\n",
      "\n",
      "Model Evaluation on Test Set:\n",
      "Accuracy: 0.4053\n",
      "Precision: 0.5678\n",
      "Recall: 0.0624\n",
      "F1 Score: 0.1124\n",
      "ROC AUC: 0.4887\n",
      "Confusion Matrix:\n",
      "[[1103   86]\n",
      " [1698  113]]\n",
      "Model training completed\n",
      "\u001b[1m94/94\u001b[0m \u001b[32m━━━━━━━━━━━━━━━━━━━━\u001b[0m\u001b[37m\u001b[0m \u001b[1m0s\u001b[0m 226us/step\n",
      "ROC curve saved as 'roc_curve.png'\n"
     ]
    },
    {
     "name": "stderr",
     "output_type": "stream",
     "text": [
      "WARNING:absl:You are saving your model as an HDF5 file via `model.save()` or `keras.saving.save_model(model)`. This file format is considered legacy. We recommend using instead the native Keras format, e.g. `model.save('my_model.keras')` or `keras.saving.save_model(model, 'my_model.keras')`. \n"
     ]
    },
    {
     "name": "stdout",
     "output_type": "stream",
     "text": [
      "Training history plot saved as 'training_history.png'\n",
      "Model saved as 'mba_prediction_model.h5'\n"
     ]
    },
    {
     "data": {
      "image/png": "[encoded data removed]",
      "text/plain": [
       "<Figure size 800x600 with 1 Axes>"
      ]
     },
     "metadata": {},
     "output_type": "display_data"
    },
    {
     "data": {
      "image/png": "[encoded data removed]",
      "text/plain": [
       "<Figure size 1200x400 with 2 Axes>"
      ]
     },
     "metadata": {},
     "output_type": "display_data"
    }
   ],
   "source": [
    "import tensorflow as tf\n",
    "from tensorflow.keras.models import Sequential\n",
    "from tensorflow.keras.layers import Dense, Dropout\n",
    "from tensorflow.keras.optimizers import Adam\n",
    "from tensorflow.keras.regularizers import l1_l2\n",
    "import numpy as np\n",
    "import pandas as pd\n",
    "from sklearn.model_selection import train_test_split\n",
    "from sklearn.metrics import accuracy_score, precision_score, recall_score, f1_score, roc_auc_score, confusion_matrix\n",
    "from imblearn.under_sampling import RandomUnderSampler\n",
    "\n",
    "# Set random seed for reproducibility\n",
    "tf.random.set_seed(42)\n",
    "np.random.seed(42)\n",
    "\n",
    "def load_and_prepare_data(data_path):\n",
    "    \"\"\"\n",
    "    Load data_01 dataset and prepare X and y with the correct column name\n",
    "    \"\"\"\n",
    "    # Load dataset\n",
    "    data_01 = pd.read_csv(f'feature_engineered_dataset.csv')\n",
    "    \n",
    "    # Separate features and target with the updated column name\n",
    "    X = data_01.drop(columns = ['remainder__Decided to Pursue MBA?'], axis = 1)\n",
    "    y = data_01['remainder__Decided to Pursue MBA?']\n",
    "    \n",
    "    return X, y\n",
    "\n",
    "def create_model(input_dim):\n",
    "    \"\"\"\n",
    "    Create a neural network model with the tuned hyperparameters\n",
    "    \"\"\"\n",
    "    # Extract the tuned hyperparameters\n",
    "    n_layers = 2\n",
    "    units_1 = 130\n",
    "    units_2 = 225\n",
    "    dropout_1 = 0.4937534117605381\n",
    "    dropout_2 = 0.2642473811836487\n",
    "    activation = 'relu'\n",
    "    l1_reg = 2.4200204603657365e-07\n",
    "    l2_reg = 0.00044960134343524774\n",
    "    learning_rate = 0.0007863640307519507\n",
    "    \n",
    "    # Create regularizer\n",
    "    regularizer = l1_l2(l1=l1_reg, l2=l2_reg)\n",
    "    \n",
    "    # Initialize model\n",
    "    model = Sequential()\n",
    "    \n",
    "    # Add first hidden layer\n",
    "    model.add(Dense(units_1, activation=activation, \n",
    "                   kernel_regularizer=regularizer,\n",
    "                   input_dim=input_dim))\n",
    "    model.add(Dropout(dropout_1))\n",
    "    \n",
    "    # Add second hidden layer\n",
    "    model.add(Dense(units_2, activation=activation,\n",
    "                   kernel_regularizer=regularizer))\n",
    "    model.add(Dropout(dropout_2))\n",
    "    \n",
    "    # Add output layer\n",
    "    model.add(Dense(1, activation='sigmoid'))\n",
    "    \n",
    "    # Configure optimizer\n",
    "    optimizer = Adam(learning_rate=learning_rate)\n",
    "    \n",
    "    # Compile model\n",
    "    model.compile(optimizer=optimizer,\n",
    "                 loss='binary_crossentropy',\n",
    "                 metrics=['accuracy'])\n",
    "    \n",
    "    return model\n",
    "\n",
    "def train_evaluate_model(X, y, test_size=0.3, random_state=101):\n",
    "    \"\"\"\n",
    "    Train and evaluate the model using pre-scaled data and undersampling\n",
    "    \"\"\"\n",
    "    # Split data with specified test_size and random_state\n",
    "    X_train, X_test, y_train, y_test = train_test_split(X, y, \n",
    "                                                      test_size=test_size, \n",
    "                                                      random_state=random_state)\n",
    "    \n",
    "    # Apply random undersampling to the training data\n",
    "    undersampler = RandomUnderSampler(random_state=42)\n",
    "    X_train_resampled, y_train_resampled = undersampler.fit_resample(X_train, y_train)\n",
    "    \n",
    "    print(f\"Original training set shape: {np.bincount(y_train)}\")\n",
    "    print(f\"Resampled training set shape: {np.bincount(y_train_resampled)}\")\n",
    "    \n",
    "    # Create model\n",
    "    input_dim = X_train_resampled.shape[1]\n",
    "    model = create_model(input_dim)\n",
    "    \n",
    "    # Train model\n",
    "    batch_size = 64\n",
    "    epochs = 200  # Can be adjusted, with early stopping\n",
    "    \n",
    "    # Add early stopping to prevent overfitting\n",
    "    early_stopping = tf.keras.callbacks.EarlyStopping(\n",
    "        monitor='val_loss',\n",
    "        patience=20,\n",
    "        restore_best_weights=True\n",
    "    )\n",
    "    \n",
    "    # Add model checkpoint to save best model\n",
    "    model_checkpoint = tf.keras.callbacks.ModelCheckpoint(\n",
    "        'best_model.h5',\n",
    "        monitor='val_loss',\n",
    "        save_best_only=True,\n",
    "        verbose=1\n",
    "    )\n",
    "    \n",
    "    # Train the model on the resampled data\n",
    "    history = model.fit(\n",
    "        X_train_resampled, y_train_resampled,\n",
    "        batch_size=batch_size,\n",
    "        epochs=epochs,\n",
    "        validation_split=0.2,\n",
    "        callbacks=[early_stopping, model_checkpoint],\n",
    "        verbose=1\n",
    "    )\n",
    "    \n",
    "    # Make predictions\n",
    "    y_pred_prob = model.predict(X_test)\n",
    "    y_pred = (y_pred_prob > 0.5).astype(int).reshape(-1)\n",
    "    \n",
    "    # Evaluate model\n",
    "    acc = accuracy_score(y_test, y_pred)\n",
    "    prec = precision_score(y_test, y_pred)\n",
    "    rec = recall_score(y_test, y_pred)\n",
    "    f1 = f1_score(y_test, y_pred)\n",
    "    auc = roc_auc_score(y_test, y_pred_prob)\n",
    "    cm = confusion_matrix(y_test, y_pred)\n",
    "    \n",
    "    # Print evaluation metrics\n",
    "    print(\"\\nModel Evaluation on Test Set:\")\n",
    "    print(f\"Accuracy: {acc:.4f}\")\n",
    "    print(f\"Precision: {prec:.4f}\")\n",
    "    print(f\"Recall: {rec:.4f}\")\n",
    "    print(f\"F1 Score: {f1:.4f}\")\n",
    "    print(f\"ROC AUC: {auc:.4f}\")\n",
    "    print(f\"Confusion Matrix:\\n{cm}\")\n",
    "    \n",
    "    return model, history, X_test, y_test\n",
    "\n",
    "def predict_new_data(model, new_data):\n",
    "    \"\"\"\n",
    "    Make predictions on new data (assuming data is already scaled)\n",
    "    \"\"\"\n",
    "    # Make prediction\n",
    "    predictions = model.predict(new_data)\n",
    "    binary_predictions = (predictions > 0.5).astype(int).reshape(-1)\n",
    "    \n",
    "    return binary_predictions, predictions\n",
    "\n",
    "def plot_roc_curve(model, X_test, y_test):\n",
    "    \"\"\"\n",
    "    Plot ROC curve for the model\n",
    "    \"\"\"\n",
    "    from sklearn.metrics import roc_curve, auc\n",
    "    import matplotlib.pyplot as plt\n",
    "    \n",
    "    # Predict probabilities\n",
    "    y_pred_prob = model.predict(X_test).ravel()\n",
    "    \n",
    "    # Calculate ROC curve\n",
    "    fpr, tpr, thresholds = roc_curve(y_test, y_pred_prob)\n",
    "    roc_auc = auc(fpr, tpr)\n",
    "    \n",
    "    # Plot\n",
    "    plt.figure(figsize=(8, 6))\n",
    "    plt.plot(fpr, tpr, color='darkorange', lw=2, label=f'ROC curve (area = {roc_auc:.2f})')\n",
    "    plt.plot([0, 1], [0, 1], color='navy', lw=2, linestyle='--')\n",
    "    plt.xlim([0.0, 1.0])\n",
    "    plt.ylim([0.0, 1.05])\n",
    "    plt.xlabel('False Positive Rate')\n",
    "    plt.ylabel('True Positive Rate')\n",
    "    plt.title('Receiver Operating Characteristic')\n",
    "    plt.legend(loc=\"lower right\")\n",
    "    plt.savefig('roc_curve.png')\n",
    "    print(\"ROC curve saved as 'roc_curve.png'\")\n",
    "\n",
    "# Main function to run the model\n",
    "def main(data_path='data_01.csv'):\n",
    "    # Load and prepare data\n",
    "    X, y = load_and_prepare_data(data_path)\n",
    "    \n",
    "    print(f\"Dataset loaded: {X.shape[0]} samples, {X.shape[1]} features\")\n",
    "    print(f\"Target distribution: {np.bincount(y)}\")\n",
    "    \n",
    "    # Train and evaluate model\n",
    "    model, history, X_test, y_test = train_evaluate_model(X, y)\n",
    "    \n",
    "    print(\"Model training completed\")\n",
    "    \n",
    "    # Plot ROC curve\n",
    "    try:\n",
    "        plot_roc_curve(model, X_test, y_test)\n",
    "    except ImportError:\n",
    "        print(\"Could not plot ROC curve due to missing dependencies\")\n",
    "    \n",
    "    # Plot training history\n",
    "    try:\n",
    "        import matplotlib.pyplot as plt\n",
    "        \n",
    "        plt.figure(figsize=(12, 4))\n",
    "        \n",
    "        # Plot training & validation accuracy\n",
    "        plt.subplot(1, 2, 1)\n",
    "        plt.plot(history.history['accuracy'])\n",
    "        plt.plot(history.history['val_accuracy'])\n",
    "        plt.title('Model accuracy')\n",
    "        plt.ylabel('Accuracy')\n",
    "        plt.xlabel('Epoch')\n",
    "        plt.legend(['Train', 'Validation'], loc='upper left')\n",
    "        \n",
    "        # Plot training & validation loss\n",
    "        plt.subplot(1, 2, 2)\n",
    "        plt.plot(history.history['loss'])\n",
    "        plt.plot(history.history['val_loss'])\n",
    "        plt.title('Model loss')\n",
    "        plt.ylabel('Loss')\n",
    "        plt.xlabel('Epoch')\n",
    "        plt.legend(['Train', 'Validation'], loc='upper left')\n",
    "        \n",
    "        plt.tight_layout()\n",
    "        plt.savefig('training_history.png')\n",
    "        print(\"Training history plot saved as 'training_history.png'\")\n",
    "    except ImportError:\n",
    "        print(\"Matplotlib not available for plotting\")\n",
    "    \n",
    "    return model\n",
    "\n",
    "# Execute the main function\n",
    "if __name__ == \"__main__\":\n",
    "    model = main('data_01.csv')\n",
    "    \n",
    "    # Save the model\n",
    "    model.save('mba_prediction_model.h5')\n",
    "    print(\"Model saved as 'mba_prediction_model.h5'\")\n",
    "    \n",
    "    # Example of how to load the model later\n",
    "    # loaded_model = tf.keras.models.load_model('mba_prediction_model.h5')"
   ]
  },
  {
   "cell_type": "code",
   "execution_count": null,
   "id": "a672a363-2543-4173-b6c7-f84953d63cac",
   "metadata": {},
   "outputs": [],
   "source": []
  }
 ],
 "metadata": {
  "kernelspec": {
   "display_name": "Python 3 (ipykernel)",
   "language": "python",
   "name": "python3"
  },
  "language_info": {
   "codemirror_mode": {
    "name": "ipython",
    "version": 3
   },
   "file_extension": ".py",
   "mimetype": "text/x-python",
   "name": "python",
   "nbconvert_exporter": "python",
   "pygments_lexer": "ipython3",
   "version": "3.12.4"
  }
 },
 "nbformat": 4,
 "nbformat_minor": 5
}
